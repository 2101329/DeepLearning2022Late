{
  "nbformat": 4,
  "nbformat_minor": 0,
  "metadata": {
    "colab": {
      "provenance": [],
      "collapsed_sections": [],
      "authorship_tag": "ABX9TyN5E0Eac8wSQX64rcSTVVa1",
      "include_colab_link": true
    },
    "kernelspec": {
      "name": "python3",
      "display_name": "Python 3"
    },
    "language_info": {
      "name": "python"
    }
  },
  "cells": [
    {
      "cell_type": "markdown",
      "metadata": {
        "id": "view-in-github",
        "colab_type": "text"
      },
      "source": [
        "<a href=\"https://colab.research.google.com/github/2101329/DeepLearning2022Late/blob/main/%E3%83%86%E3%82%B9%E3%83%880913_1.ipynb\" target=\"_parent\"><img src=\"https://colab.research.google.com/assets/colab-badge.svg\" alt=\"Open In Colab\"/></a>"
      ]
    },
    {
      "cell_type": "code",
      "execution_count": null,
      "metadata": {
        "colab": {
          "base_uri": "https://localhost:8080/"
        },
        "id": "mNpb4PvyUWIG",
        "outputId": "e17bdec0-0c11-4992-e65e-aa4e0d031f33"
      },
      "outputs": [
        {
          "output_type": "stream",
          "name": "stdout",
          "text": [
            "['アップル', 'ペン', 'ペン', 'パイナップル']\n",
            "ペンペン\n"
          ]
        }
      ],
      "source": [
        "# リスト\n",
        "list = [ 'アップル', 'ペン', 'ペン', 'パイナップル' ]\n",
        "print( list )\n",
        "print( list[1] + list[2] )"
      ]
    },
    {
      "cell_type": "code",
      "source": [
        "# タプル\n",
        "tuple = ( 'アップル', 'ペン', 'ペン', 'パイナップル' )\n",
        "print(tuple)\n",
        "print( tuple[1] + tuple[2] )"
      ],
      "metadata": {
        "colab": {
          "base_uri": "https://localhost:8080/"
        },
        "id": "2nHYmB2jUyKr",
        "outputId": "d01c9323-90e4-47dc-b3ed-88375ca772f4"
      },
      "execution_count": null,
      "outputs": [
        {
          "output_type": "stream",
          "name": "stdout",
          "text": [
            "('アップル', 'ペン', 'ペン', 'パイナップル')\n",
            "ペンペン\n"
          ]
        }
      ]
    },
    {
      "cell_type": "code",
      "source": [
        "### 構成を変更出来るのはリスト\n",
        "### 構成を変更できない（固定）はタプル"
      ],
      "metadata": {
        "id": "b6V3oYKEWoqa"
      },
      "execution_count": null,
      "outputs": []
    },
    {
      "cell_type": "code",
      "source": [
        "# リストの構成変更\n",
        "print(list)\n",
        "list.append(100) # 文字列データのリストにあえて数値を追加\n",
        "print(list)\n",
        "del list[2] # リストの3番目を削除\n",
        "print(list)\n",
        "list[3] = 'ペン' #数値100を'ペン'に更新\n",
        "print(list)\n",
        "list.insert(2, 'ペン' ) # 2番目の位置に'ペン'を挿入\n",
        "print(list)"
      ],
      "metadata": {
        "colab": {
          "base_uri": "https://localhost:8080/"
        },
        "id": "a8rbu9P2XasF",
        "outputId": "a4e7d21c-fe89-472c-abf0-097a5850ad45"
      },
      "execution_count": null,
      "outputs": [
        {
          "output_type": "stream",
          "name": "stdout",
          "text": [
            "['アップル', 'ペン', 'ペン', 'パイナップル']\n",
            "['アップル', 'ペン', 'ペン', 'パイナップル', 100]\n",
            "['アップル', 'ペン', 'パイナップル', 100]\n",
            "['アップル', 'ペン', 'パイナップル', 'ペン']\n",
            "['アップル', 'ペン', 'ペン', 'パイナップル', 'ペン']\n"
          ]
        }
      ]
    },
    {
      "cell_type": "code",
      "source": [
        "###リストやタプルの長さの取得\n",
        "print(list)\n",
        "print( len(list) ) # len( ) で長さを取得する"
      ],
      "metadata": {
        "colab": {
          "base_uri": "https://localhost:8080/"
        },
        "id": "_dreeaWkYZGV",
        "outputId": "7dbd4793-4fae-4b5f-96c2-583e5cdd91dc"
      },
      "execution_count": null,
      "outputs": [
        {
          "output_type": "stream",
          "name": "stdout",
          "text": [
            "['アップル', 'ペン', 'ペン', 'パイナップル', 'ペン']\n",
            "5\n"
          ]
        }
      ]
    },
    {
      "cell_type": "code",
      "source": [
        "### データを抽出する (データを一部分とりだす)\n",
        "print(list)\n",
        "print(list[1]) # 何番目の要素の指定の仕方と同じ考え方\n",
        "print( list[1:3] ) # 1番目から3番目までの範囲を指定して抽出 = スライス\n",
        "print( list[1:] ) # 1番目から最後まで抽出 (スライス)"
      ],
      "metadata": {
        "colab": {
          "base_uri": "https://localhost:8080/"
        },
        "id": "kOQVJ-UVb7ge",
        "outputId": "f56d3448-9b39-4f53-889f-d05ab08fcf73"
      },
      "execution_count": null,
      "outputs": [
        {
          "output_type": "stream",
          "name": "stdout",
          "text": [
            "['アップル', 'ペン', 'ペン', 'パイナップル', 'ペン']\n",
            "ペン\n",
            "['ペン', 'ペン']\n",
            "['ペン', 'ペン', 'パイナップル', 'ペン']\n"
          ]
        }
      ]
    },
    {
      "cell_type": "code",
      "source": [],
      "metadata": {
        "id": "M-5V2dSBcUQf"
      },
      "execution_count": null,
      "outputs": []
    },
    {
      "cell_type": "markdown",
      "source": [
        "# SET型 (集合型)\n",
        "集合型は、順番を待たない。重複したデータも持たない"
      ],
      "metadata": {
        "id": "2vPt3FR9elHC"
      }
    },
    {
      "cell_type": "code",
      "source": [
        "# uniqという名前のset型変数を作る\n",
        "uniq = set( ['アップル', 'ペン', 'ペン', 'パイナップル' ] )\n",
        "print(uniq) # リストの時点では'ペン'が重複出来ていたが、set型になって重複が消えた"
      ],
      "metadata": {
        "colab": {
          "base_uri": "https://localhost:8080/"
        },
        "id": "oiCyHFwafUyB",
        "outputId": "530ea592-5824-4ea9-b117-9c6cfa4b6d1b"
      },
      "execution_count": null,
      "outputs": [
        {
          "output_type": "stream",
          "name": "stdout",
          "text": [
            "{'パイナップル', 'ペン', 'アップル'}\n"
          ]
        }
      ]
    },
    {
      "cell_type": "code",
      "source": [],
      "metadata": {
        "id": "pzTMrGiUg3bJ"
      },
      "execution_count": null,
      "outputs": []
    },
    {
      "cell_type": "markdown",
      "source": [
        "# 集合型の追加変更削除"
      ],
      "metadata": {
        "id": "l0cWdYS0g5M5"
      }
    },
    {
      "cell_type": "code",
      "source": [
        "print(uniq)\n",
        "uniq.add( 'バナナ' ) # 追加\n",
        "uniq.remove('ペン') # 削除\n",
        "print(uniq)"
      ],
      "metadata": {
        "colab": {
          "base_uri": "https://localhost:8080/"
        },
        "id": "m_xfYHt2hAM9",
        "outputId": "2efd32a0-ed4a-413b-e0c9-df9d1fb58f40"
      },
      "execution_count": null,
      "outputs": [
        {
          "output_type": "stream",
          "name": "stdout",
          "text": [
            "{'パイナップル', 'バナナ', 'ペン', 'アップル'}\n",
            "{'パイナップル', 'バナナ', 'アップル'}\n"
          ]
        }
      ]
    },
    {
      "cell_type": "markdown",
      "source": [
        "#### 集合演算\n",
        "包括、積、和、差分"
      ],
      "metadata": {
        "id": "J_6gRYVmiNoO"
      }
    },
    {
      "cell_type": "code",
      "source": [
        "# uniqの値を再定義\n",
        "uniq = set( ['アップル', 'ペン', 'ペン', 'パイナップル' ] )\n",
        "a = set( ['アップル','ペン'] )\n",
        "b = set( ['ペン','パイナップル'] )\n",
        "print(uniq)\n",
        "print(a)\n",
        "print(b)\n",
        "# 集合 a は集合 uniq の subset(部分集合)である？ = 包括関係\n",
        "a.issubset( uniq )\n",
        "# データ 'ペン'は 集合 a の中にある?\n",
        "'ペン' in a"
      ],
      "metadata": {
        "colab": {
          "base_uri": "https://localhost:8080/"
        },
        "id": "3QW0v_FxiZyT",
        "outputId": "c782f646-4160-4514-fe0c-dd117ce88f42"
      },
      "execution_count": null,
      "outputs": [
        {
          "output_type": "stream",
          "name": "stdout",
          "text": [
            "{'パイナップル', 'ペン', 'アップル'}\n",
            "{'ペン', 'アップル'}\n",
            "{'パイナップル', 'ペン'}\n"
          ]
        },
        {
          "output_type": "execute_result",
          "data": {
            "text/plain": [
              "True"
            ]
          },
          "metadata": {},
          "execution_count": 15
        }
      ]
    },
    {
      "cell_type": "code",
      "source": [
        "# ある集合と別の集合の共通部分の要素 (intersection)\n",
        "# 集合 a と 集合 b の 共通集合\n",
        "print(a)\n",
        "print(b)\n",
        "print( a.intersection( b ) ) # 集合aのデータで集合bに共通のもの　:積\n",
        "# 集合 a と 集合 b の結合 : 和集合( setなので重複は削除される )\n",
        "print(a.union( b ) ) # 集合aと集合bの集まり\n",
        "# 集合 a と集合 b の差集合　(aのみに含まれる集合)\n",
        "a.difference( b ) # aからbを取り除いた残り (差分：difference)"
      ],
      "metadata": {
        "colab": {
          "base_uri": "https://localhost:8080/"
        },
        "id": "AQVu5I3_jJ0t",
        "outputId": "ee4aab31-f800-4510-cee9-81fe8744a2af"
      },
      "execution_count": null,
      "outputs": [
        {
          "output_type": "stream",
          "name": "stdout",
          "text": [
            "{'ペン', 'アップル'}\n",
            "{'パイナップル', 'ペン'}\n",
            "{'ペン'}\n",
            "{'パイナップル', 'ペン', 'アップル'}\n"
          ]
        },
        {
          "output_type": "execute_result",
          "data": {
            "text/plain": [
              "{'アップル'}"
            ]
          },
          "metadata": {},
          "execution_count": 19
        }
      ]
    },
    {
      "cell_type": "code",
      "source": [],
      "metadata": {
        "id": "ejN5mEawr1G0"
      },
      "execution_count": null,
      "outputs": []
    }
  ]
}