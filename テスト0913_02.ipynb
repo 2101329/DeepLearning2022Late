{
  "nbformat": 4,
  "nbformat_minor": 0,
  "metadata": {
    "colab": {
      "provenance": [],
      "collapsed_sections": [],
      "authorship_tag": "ABX9TyPQifvdbuvSdzwV2nkiqyhm",
      "include_colab_link": true
    },
    "kernelspec": {
      "name": "python3",
      "display_name": "Python 3"
    },
    "language_info": {
      "name": "python"
    }
  },
  "cells": [
    {
      "cell_type": "markdown",
      "metadata": {
        "id": "view-in-github",
        "colab_type": "text"
      },
      "source": [
        "<a href=\"https://colab.research.google.com/github/2101329/DeepLearning2022Late/blob/main/%E3%83%86%E3%82%B9%E3%83%880913_02.ipynb\" target=\"_parent\"><img src=\"https://colab.research.google.com/assets/colab-badge.svg\" alt=\"Open In Colab\"/></a>"
      ]
    },
    {
      "cell_type": "markdown",
      "source": [
        "# 辞書型( dictionary)\n",
        "キーと値のペアで管理する"
      ],
      "metadata": {
        "id": "skZ-sQcey6ta"
      }
    },
    {
      "cell_type": "markdown",
      "source": [
        "## 辞書型の定義文"
      ],
      "metadata": {
        "id": "NipXNG8wzWKS"
      }
    },
    {
      "cell_type": "code",
      "source": [
        "# 辞書型のデータを作って変数dictに代入\n",
        "# {キーワード : 値, 'キーワード':値 }　でデータを管理\n",
        "dict = { 'アップル':1, 'ペン':2, 'パイナップル':3 }\n",
        "print(dict)\n",
        "# 値を利用するときは、キーワードで指定\n",
        "print( dict['ペン'] )"
      ],
      "metadata": {
        "colab": {
          "base_uri": "https://localhost:8080/"
        },
        "id": "7qBG5MEVzerE",
        "outputId": "0c67a729-50cc-4241-cba2-007e329f4f49"
      },
      "execution_count": 1,
      "outputs": [
        {
          "output_type": "stream",
          "name": "stdout",
          "text": [
            "{'アップル': 1, 'ペン': 2, 'パイナップル': 3}\n",
            "2\n"
          ]
        }
      ]
    },
    {
      "cell_type": "markdown",
      "source": [
        "## 辞書型のキーワード一覧、値一覧を取得する"
      ],
      "metadata": {
        "id": "UgwpYbwD1bHx"
      }
    },
    {
      "cell_type": "code",
      "source": [
        "print(dict)\n",
        "# dictに入っているキーの一覧\n",
        "print( dict.keys() )\n",
        "# dictに入っている値の一覧\n",
        "print(dict.values())"
      ],
      "metadata": {
        "colab": {
          "base_uri": "https://localhost:8080/"
        },
        "id": "GJmyt3Vn1stF",
        "outputId": "3b151d6e-0144-4bb6-a39a-880b9d9ba35b"
      },
      "execution_count": 2,
      "outputs": [
        {
          "output_type": "stream",
          "name": "stdout",
          "text": [
            "{'アップル': 1, 'ペン': 2, 'パイナップル': 3}\n",
            "dict_keys(['アップル', 'ペン', 'パイナップル'])\n",
            "dict_values([1, 2, 3])\n"
          ]
        }
      ]
    },
    {
      "cell_type": "markdown",
      "source": [
        "## 辞書型の追加・削除・更新"
      ],
      "metadata": {
        "id": "AR0rju_50_3K"
      }
    },
    {
      "cell_type": "code",
      "source": [
        "print(dict)\n",
        "# dictにバナナというキーワードで値5を追加\n",
        "# print( dict.keys() )\n",
        "dict['バナナ'] = 5\n",
        "print(dict)\n",
        "#  キーワードがすでにあったら、そのキーワードの値を更新\n",
        "dict['バナナ'] = 100\n",
        "print(dict)\n",
        "# キーワードで指定したペアを削除\n",
        "dict.pop('バナナ')\n",
        "print(dict)"
      ],
      "metadata": {
        "colab": {
          "base_uri": "https://localhost:8080/"
        },
        "id": "kEhhM0q71KB_",
        "outputId": "44578751-428c-44e2-c9b7-3dcca8907f6a"
      },
      "execution_count": 3,
      "outputs": [
        {
          "output_type": "stream",
          "name": "stdout",
          "text": [
            "{'アップル': 1, 'ペン': 2, 'パイナップル': 3}\n",
            "{'アップル': 1, 'ペン': 2, 'パイナップル': 3, 'バナナ': 5}\n",
            "{'アップル': 1, 'ペン': 2, 'パイナップル': 3, 'バナナ': 100}\n",
            "{'アップル': 1, 'ペン': 2, 'パイナップル': 3}\n"
          ]
        }
      ]
    },
    {
      "cell_type": "markdown",
      "source": [
        "# 文字列の整形\n",
        "## 文字列の連結と繰り返し\n",
        "\n"
      ],
      "metadata": {
        "id": "sEpvAC2_4bsH"
      }
    },
    {
      "cell_type": "code",
      "source": [
        "# 文字列の連結方法①\n",
        "apple = 'アップル'\n",
        "pen = 'ペン'\n",
        "print( apple + pen ) # プラス記号で連結\n",
        "# 文字列の連結方法② 文字配列を連結する\n",
        "piko = ['ペン', 'パイナップル', 'アップル', 'ペン']\n",
        "# printメソッドで連結して表示 例 : , で連結\n",
        "print( ',' .join(piko) )\n",
        "# 回数を指定してメッセージを表示\n",
        "pon = 'ポン'\n",
        "print( pon *3)"
      ],
      "metadata": {
        "colab": {
          "base_uri": "https://localhost:8080/"
        },
        "id": "aF9WwWDO2x2u",
        "outputId": "753d1229-5679-4518-8c05-36ac65ce5baa"
      },
      "execution_count": 4,
      "outputs": [
        {
          "output_type": "stream",
          "name": "stdout",
          "text": [
            "アップルペン\n",
            "ペン,パイナップル,アップル,ペン\n",
            "ポンポンポン\n"
          ]
        }
      ]
    },
    {
      "cell_type": "markdown",
      "source": [
        "# 【重要】 文字列の整形(フォーマット)"
      ],
      "metadata": {
        "id": "82HJVepN6-lp"
      }
    },
    {
      "cell_type": "code",
      "source": [
        "# 定式で指定した形のメッセージにする\n",
        "print( '{}{}:{}円' )\n",
        "# スロットを定義した順番に、その数だけデータを引き渡して文章を組み立てる\n",
        "print( '{}{}:{}円'.format('アップル', 'ペン', '100') )\n",
        "# スロットを値のインデックスで指定することも出来る\n",
        "print('{1}{2}:{0}円'.format(100, 'アップル','ペン'))"
      ],
      "metadata": {
        "colab": {
          "base_uri": "https://localhost:8080/"
        },
        "id": "ILBk_mUt5NGB",
        "outputId": "9ec28e67-7f9a-4177-a86e-4a5809c42920"
      },
      "execution_count": 5,
      "outputs": [
        {
          "output_type": "stream",
          "name": "stdout",
          "text": [
            "{}{}:{}円\n",
            "アップルペン:100円\n",
            "アップルペン:100円\n"
          ]
        }
      ]
    },
    {
      "cell_type": "markdown",
      "source": [
        "# コレクション演算\n",
        "リスト、タプル、つまり順番がある集合のことをシーケンスという。\n",
        "順番がない集合を集合型(セット)という。\n",
        "上記2種類を，まとめてコレクションという。\n",
        "コレクションは共通の演算が行える len (長さ、量を取得)、 max(最大値を取得)、 min(最小値を取得) など"
      ],
      "metadata": {
        "id": "lqmjWeeCW0Im"
      }
    },
    {
      "cell_type": "code",
      "source": [
        "list = [1,1,2,3,4,5] #6つの要素\n",
        "tuple = (10,9,7,7,8,8,9) #7つの要素\n",
        "set = {1,-2,3,-4,5,-6,7,-8} #8つの要素\n",
        "# リストの長さ、最大値、最小値\n",
        "print( len(list), max(list), min(list) )\n",
        "# タプルの長さ、最大値、最小値\n",
        "print( len(tuple), max(tuple), min(tuple) )\n",
        "# setの長さ　(量) 、最大値，最小値\n",
        "print( len(set), max(set),min(set) )"
      ],
      "metadata": {
        "colab": {
          "base_uri": "https://localhost:8080/"
        },
        "id": "PV1TVVUBYGJq",
        "outputId": "079a9502-ebce-40b5-aa7e-8afe9464a2cb"
      },
      "execution_count": 8,
      "outputs": [
        {
          "output_type": "stream",
          "name": "stdout",
          "text": [
            "6 5 1\n",
            "7 10 7\n",
            "8 7 -8\n"
          ]
        }
      ]
    },
    {
      "cell_type": "code",
      "source": [],
      "metadata": {
        "id": "xrRjEKfFZD4u"
      },
      "execution_count": null,
      "outputs": []
    }
  ]
}