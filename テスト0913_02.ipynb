{
  "nbformat": 4,
  "nbformat_minor": 0,
  "metadata": {
    "colab": {
      "provenance": [],
      "collapsed_sections": [],
      "authorship_tag": "ABX9TyN2SroxA6eI7rZ5m6Au4/gr",
      "include_colab_link": true
    },
    "kernelspec": {
      "name": "python3",
      "display_name": "Python 3"
    },
    "language_info": {
      "name": "python"
    }
  },
  "cells": [
    {
      "cell_type": "markdown",
      "metadata": {
        "id": "view-in-github",
        "colab_type": "text"
      },
      "source": [
        "<a href=\"https://colab.research.google.com/github/2101329/DeepLearning2022Late/blob/main/%E3%83%86%E3%82%B9%E3%83%880913_02.ipynb\" target=\"_parent\"><img src=\"https://colab.research.google.com/assets/colab-badge.svg\" alt=\"Open In Colab\"/></a>"
      ]
    },
    {
      "cell_type": "markdown",
      "source": [
        "# 辞書型( dictionary)\n",
        "キーと値のペアで管理する"
      ],
      "metadata": {
        "id": "skZ-sQcey6ta"
      }
    },
    {
      "cell_type": "markdown",
      "source": [
        "## 辞書型の定義文"
      ],
      "metadata": {
        "id": "NipXNG8wzWKS"
      }
    },
    {
      "cell_type": "code",
      "source": [
        "# 辞書型のデータを作って変数dictに代入\n",
        "# {キーワード : 値, 'キーワード':値 }　でデータを管理\n",
        "dict = { 'アップル':1, 'ペン':2, 'パイナップル':3 }\n",
        "print(dict)\n",
        "# 値を利用するときは、キーワードで指定\n",
        "print( dict['ペン'] )"
      ],
      "metadata": {
        "colab": {
          "base_uri": "https://localhost:8080/"
        },
        "id": "7qBG5MEVzerE",
        "outputId": "c1b03723-451d-4970-bc7e-24149f0a4675"
      },
      "execution_count": 1,
      "outputs": [
        {
          "output_type": "stream",
          "name": "stdout",
          "text": [
            "{'アップル': 1, 'ペン': 2, 'パイナップル': 3}\n",
            "2\n"
          ]
        }
      ]
    },
    {
      "cell_type": "markdown",
      "source": [
        "## 辞書型のキーワード一覧、値一覧を取得する"
      ],
      "metadata": {
        "id": "UgwpYbwD1bHx"
      }
    },
    {
      "cell_type": "code",
      "source": [
        "print(dict)\n",
        "# dictに入っているキーの一覧\n",
        "print( dict.keys() )\n",
        "# dictに入っている値の一覧\n",
        "print(dict.values())"
      ],
      "metadata": {
        "colab": {
          "base_uri": "https://localhost:8080/"
        },
        "id": "GJmyt3Vn1stF",
        "outputId": "8d3b2dc8-a231-4d59-c20c-043c48078b4f"
      },
      "execution_count": 2,
      "outputs": [
        {
          "output_type": "stream",
          "name": "stdout",
          "text": [
            "{'アップル': 1, 'ペン': 2, 'パイナップル': 3}\n",
            "dict_keys(['アップル', 'ペン', 'パイナップル'])\n",
            "dict_values([1, 2, 3])\n"
          ]
        }
      ]
    },
    {
      "cell_type": "markdown",
      "source": [
        "## 辞書型の追加・削除・更新"
      ],
      "metadata": {
        "id": "AR0rju_50_3K"
      }
    },
    {
      "cell_type": "code",
      "source": [
        "print(dict)\n",
        "# dictにバナナというキーワードで値5を追加\n",
        "# print( dict.keys() )\n",
        "dict['バナナ'] = 5\n",
        "print(dict)\n",
        "#  キーワードがすでにあったら、そのキーワードの値を更新\n",
        "dict['バナナ'] = 100\n",
        "print(dict)\n",
        "# キーワードで指定したペアを削除\n",
        "dict.pop('バナナ')\n",
        "print(dict)"
      ],
      "metadata": {
        "colab": {
          "base_uri": "https://localhost:8080/"
        },
        "id": "kEhhM0q71KB_",
        "outputId": "54ede345-35f1-46f1-dd73-df310c44809f"
      },
      "execution_count": 4,
      "outputs": [
        {
          "output_type": "stream",
          "name": "stdout",
          "text": [
            "{'アップル': 1, 'ペン': 2, 'パイナップル': 3, 'バナナ': 100}\n",
            "{'アップル': 1, 'ペン': 2, 'パイナップル': 3, 'バナナ': 5}\n",
            "{'アップル': 1, 'ペン': 2, 'パイナップル': 3, 'バナナ': 100}\n",
            "{'アップル': 1, 'ペン': 2, 'パイナップル': 3}\n"
          ]
        }
      ]
    },
    {
      "cell_type": "markdown",
      "source": [
        "# 文字列の整形\n",
        "## 文字列の連結と繰り返し\n",
        "\n"
      ],
      "metadata": {
        "id": "sEpvAC2_4bsH"
      }
    },
    {
      "cell_type": "code",
      "source": [
        "# 文字列の連結方法①\n",
        "apple = 'アップル'\n",
        "pen = 'ペン'\n",
        "print( apple + pen ) # プラス記号で連結\n",
        "# 文字列の連結方法② 文字配列を連結する\n",
        "piko = ['ペン', 'パイナップル', 'アップル', 'ペン']\n",
        "# printメソッドで連結して表示 例 : , で連結\n",
        "print( ',' .join(piko) )\n",
        "# 回数を指定してメッセージを表示\n",
        "pon = 'ポン'\n",
        "print( pon *3)"
      ],
      "metadata": {
        "colab": {
          "base_uri": "https://localhost:8080/"
        },
        "id": "aF9WwWDO2x2u",
        "outputId": "aae853a7-25ec-4711-d825-3b2a60239dad"
      },
      "execution_count": 9,
      "outputs": [
        {
          "output_type": "stream",
          "name": "stdout",
          "text": [
            "アップルペン\n",
            "ペン,パイナップル,アップル,ペン\n",
            "ポンポンポン\n"
          ]
        }
      ]
    },
    {
      "cell_type": "markdown",
      "source": [
        "# 【重要】 文字列の整形(フォーマット)"
      ],
      "metadata": {
        "id": "82HJVepN6-lp"
      }
    },
    {
      "cell_type": "code",
      "source": [
        "# 定式で指定した形のメッセージにする\n",
        "print( '{}{}:{}円' )\n",
        "# スロットを定義した順番に、その数だけデータを引き渡して文章を組み立てる\n",
        "print( '{}{}:{}円'.format('アップル', 'ペン', '100') )\n",
        "# スロットを値のインデックスで指定することも出来る\n",
        "print('{1}{2}:{0}円'.format(100, 'アップル','ペン'))"
      ],
      "metadata": {
        "colab": {
          "base_uri": "https://localhost:8080/"
        },
        "id": "ILBk_mUt5NGB",
        "outputId": "fe6c6cde-cd60-4aa3-fa42-ea3cbc2aa805"
      },
      "execution_count": 12,
      "outputs": [
        {
          "output_type": "stream",
          "name": "stdout",
          "text": [
            "{}{}:{}円\n",
            "アップルペン:100円\n",
            "アップルペン:100円\n"
          ]
        }
      ]
    },
    {
      "cell_type": "code",
      "source": [],
      "metadata": {
        "id": "Td8KIW3Y7fm3"
      },
      "execution_count": null,
      "outputs": []
    }
  ]
}