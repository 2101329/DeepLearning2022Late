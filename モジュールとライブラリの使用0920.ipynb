{
  "nbformat": 4,
  "nbformat_minor": 0,
  "metadata": {
    "colab": {
      "provenance": [],
      "authorship_tag": "ABX9TyPkgpS5bNhpsWLQ4q8NcATs",
      "include_colab_link": true
    },
    "kernelspec": {
      "name": "python3",
      "display_name": "Python 3"
    },
    "language_info": {
      "name": "python"
    }
  },
  "cells": [
    {
      "cell_type": "markdown",
      "metadata": {
        "id": "view-in-github",
        "colab_type": "text"
      },
      "source": [
        "<a href=\"https://colab.research.google.com/github/2101329/DeepLearning2022Late/blob/main/%E3%83%A2%E3%82%B8%E3%83%A5%E3%83%BC%E3%83%AB%E3%81%A8%E3%83%A9%E3%82%A4%E3%83%96%E3%83%A9%E3%83%AA%E3%81%AE%E4%BD%BF%E7%94%A80920.ipynb\" target=\"_parent\"><img src=\"https://colab.research.google.com/assets/colab-badge.svg\" alt=\"Open In Colab\"/></a>"
      ]
    },
    {
      "cell_type": "markdown",
      "source": [
        "# モジュールを使う\n",
        "## import文でモジュールを読み込んで使う\n",
        "###例) math"
      ],
      "metadata": {
        "id": "B37ERHCZ9b5B"
      }
    },
    {
      "cell_type": "code",
      "source": [
        "# mathモジュールを読み込む\n",
        "import math\n",
        "print( math.pi ) # mathの中に定義してある円周率を表示\n",
        "print( math.pow( 5, 2 ) ) # 5の2乗\n",
        "print( math.sqrt( 9 ) ) # 9の平方根\n"
      ],
      "metadata": {
        "colab": {
          "base_uri": "https://localhost:8080/"
        },
        "id": "b4RFrAhH9T7D",
        "outputId": "77090133-2059-44d7-b855-c1ee3f3d97a9"
      },
      "execution_count": 3,
      "outputs": [
        {
          "output_type": "stream",
          "name": "stdout",
          "text": [
            "3.141592653589793\n",
            "25.0\n",
            "3.0\n"
          ]
        }
      ]
    },
    {
      "cell_type": "markdown",
      "source": [
        "## Numpy -- 数値計算要の便利なライブラリ"
      ],
      "metadata": {
        "id": "QzfOLl6q_PiF"
      }
    },
    {
      "cell_type": "code",
      "source": [
        "# numpy を import\n",
        "import numpy as np\n"
      ],
      "metadata": {
        "id": "4f5omruK-8QB"
      },
      "execution_count": null,
      "outputs": []
    }
  ]
}