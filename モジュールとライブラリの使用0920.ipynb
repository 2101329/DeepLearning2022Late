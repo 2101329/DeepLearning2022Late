{
  "nbformat": 4,
  "nbformat_minor": 0,
  "metadata": {
    "colab": {
      "provenance": [],
      "toc_visible": true,
      "authorship_tag": "ABX9TyMVvEOenk3u8dvmUHO0x5m4",
      "include_colab_link": true
    },
    "kernelspec": {
      "name": "python3",
      "display_name": "Python 3"
    },
    "language_info": {
      "name": "python"
    }
  },
  "cells": [
    {
      "cell_type": "markdown",
      "metadata": {
        "id": "view-in-github",
        "colab_type": "text"
      },
      "source": [
        "<a href=\"https://colab.research.google.com/github/2101329/DeepLearning2022Late/blob/main/%E3%83%A2%E3%82%B8%E3%83%A5%E3%83%BC%E3%83%AB%E3%81%A8%E3%83%A9%E3%82%A4%E3%83%96%E3%83%A9%E3%83%AA%E3%81%AE%E4%BD%BF%E7%94%A80920.ipynb\" target=\"_parent\"><img src=\"https://colab.research.google.com/assets/colab-badge.svg\" alt=\"Open In Colab\"/></a>"
      ]
    },
    {
      "cell_type": "markdown",
      "source": [
        "# モジュールを使う\n",
        "## import文でモジュールを読み込んで使う\n",
        "###例) math"
      ],
      "metadata": {
        "id": "B37ERHCZ9b5B"
      }
    },
    {
      "cell_type": "code",
      "source": [
        "# mathモジュールを読み込む\n",
        "import math\n",
        "print( math.pi ) # mathの中に定義してある円周率を表示\n",
        "print( math.pow( 5, 2 ) ) # 5の2乗\n",
        "print( math.sqrt( 9 ) ) # 9の平方根\n"
      ],
      "metadata": {
        "colab": {
          "base_uri": "https://localhost:8080/"
        },
        "id": "b4RFrAhH9T7D",
        "outputId": "0a752f4c-ae3a-4eff-a419-e77ed798adbb"
      },
      "execution_count": 4,
      "outputs": [
        {
          "output_type": "stream",
          "name": "stdout",
          "text": [
            "3.141592653589793\n",
            "25.0\n",
            "3.0\n"
          ]
        }
      ]
    },
    {
      "cell_type": "markdown",
      "source": [
        "## Numpy -- 数値計算要の便利なライブラリ\n",
        "[https://numpy.org/](https://numpy.org/)"
      ],
      "metadata": {
        "id": "QzfOLl6q_PiF"
      }
    },
    {
      "cell_type": "code",
      "source": [
        "# numpy を import\n",
        "import numpy as np\n"
      ],
      "metadata": {
        "id": "4f5omruK-8QB"
      },
      "execution_count": 5,
      "outputs": []
    },
    {
      "cell_type": "markdown",
      "source": [
        "### numpy配列(ndarray)を作る"
      ],
      "metadata": {
        "id": "gYGjUoebomLO"
      }
    },
    {
      "cell_type": "code",
      "source": [
        "# リストを引き渡してndarrayを作る\n",
        "a = np.array( [ 5, 7, 3, 1, 4, 3 ] )\n",
        "print( a )"
      ],
      "metadata": {
        "colab": {
          "base_uri": "https://localhost:8080/"
        },
        "id": "lJ4TMWiEo6AL",
        "outputId": "6750fd59-818e-4138-8ff8-1c747ec6b8b0"
      },
      "execution_count": 6,
      "outputs": [
        {
          "output_type": "stream",
          "name": "stdout",
          "text": [
            "[5 7 3 1 4 3]\n"
          ]
        }
      ]
    },
    {
      "cell_type": "markdown",
      "source": [
        "#### Numpyで配列の操作をしてみる\n",
        "配列を構成しなおす"
      ],
      "metadata": {
        "id": "lacu00QoqaeM"
      }
    },
    {
      "cell_type": "code",
      "source": [
        "# 現在、aは1行1次元配列\n",
        "print( a )\n",
        "# a を3行2列の2次元配列に構成しなおす\n",
        "b = a.reshape( [ 3, 2] ) # 新しい配列の構成を引数で指定する\n",
        "print( b )"
      ],
      "metadata": {
        "colab": {
          "base_uri": "https://localhost:8080/"
        },
        "id": "_vS5775tp959",
        "outputId": "aec8905f-324f-41cd-e443-2a2d06933160"
      },
      "execution_count": 7,
      "outputs": [
        {
          "output_type": "stream",
          "name": "stdout",
          "text": [
            "[5 7 3 1 4 3]\n",
            "[[5 7]\n",
            " [3 1]\n",
            " [4 3]]\n"
          ]
        }
      ]
    },
    {
      "cell_type": "markdown",
      "source": [
        "### Numpy配列の中身を初期化して作る"
      ],
      "metadata": {
        "id": "HdtbMsj7r6Xe"
      }
    },
    {
      "cell_type": "code",
      "source": [
        "# 3行4列の0が入った2次元配列を作る\n",
        "c = np.zeros( (3,4) )\n",
        "print( c )\n",
        "# ランダムな値が入った配列を作る\n",
        "np.random.seed( 0 )\n",
        "r = np.random.rand( 3, 4)\n",
        "print( r )"
      ],
      "metadata": {
        "colab": {
          "base_uri": "https://localhost:8080/"
        },
        "id": "8kLYF1gPrPDl",
        "outputId": "c88ac38f-1c14-4520-f2cf-79f9e5eb7d2b"
      },
      "execution_count": 8,
      "outputs": [
        {
          "output_type": "stream",
          "name": "stdout",
          "text": [
            "[[0. 0. 0. 0.]\n",
            " [0. 0. 0. 0.]\n",
            " [0. 0. 0. 0.]]\n",
            "[[0.5488135  0.71518937 0.60276338 0.54488318]\n",
            " [0.4236548  0.64589411 0.43758721 0.891773  ]\n",
            " [0.96366276 0.38344152 0.79172504 0.52889492]]\n"
          ]
        }
      ]
    },
    {
      "cell_type": "markdown",
      "source": [
        "## Numpyのスライスのやりかた\n",
        "### 基本\n",
        "スライスの指定の仕方\n",
        "[ start:stop:step]で指定する"
      ],
      "metadata": {
        "id": "itAP3z13ulZK"
      }
    },
    {
      "cell_type": "code",
      "source": [
        "# リストのスライス\n",
        "l = list( range(10) ) # 0～9までの10個の要素のリスト\n",
        "print( l )\n",
        "print( l[ 4:8 ] ) #[4:8]でスライス\n",
        "print( l[ : : ] ) # stepを-1でスライス"
      ],
      "metadata": {
        "colab": {
          "base_uri": "https://localhost:8080/"
        },
        "id": "v7i2HGtOtrJc",
        "outputId": "a7b571ef-a3ef-4156-d718-31cc19f91e49"
      },
      "execution_count": 9,
      "outputs": [
        {
          "output_type": "stream",
          "name": "stdout",
          "text": [
            "[0, 1, 2, 3, 4, 5, 6, 7, 8, 9]\n",
            "[4, 5, 6, 7]\n",
            "[0, 1, 2, 3, 4, 5, 6, 7, 8, 9]\n"
          ]
        }
      ]
    },
    {
      "cell_type": "markdown",
      "source": [
        "### 1次元のNumpy配列( ndarray )に置けるスライス"
      ],
      "metadata": {
        "id": "6P-WR5wdxLHz"
      }
    },
    {
      "cell_type": "code",
      "source": [
        "# 範囲を指定してndarrayを作る\n",
        "a = np.arange( 10 ) # 0～9の10個の要素のndarray\n",
        "print( a )\n",
        "print( a[2:8] )\n",
        "print( a[2:8:2] )# step2で2こ飛ばし\n",
        "print( a[2:8:3] )"
      ],
      "metadata": {
        "colab": {
          "base_uri": "https://localhost:8080/"
        },
        "id": "ZA7ZrE0DvXMt",
        "outputId": "be4ccefe-15a0-4467-86cc-30761e3bd1bf"
      },
      "execution_count": 10,
      "outputs": [
        {
          "output_type": "stream",
          "name": "stdout",
          "text": [
            "[0 1 2 3 4 5 6 7 8 9]\n",
            "[2 3 4 5 6 7]\n",
            "[2 4 6]\n",
            "[2 5]\n"
          ]
        }
      ]
    },
    {
      "cell_type": "markdown",
      "source": [
        "### 1次元配列のndarrayのスライスに代入"
      ],
      "metadata": {
        "id": "nokld7RozZXc"
      }
    },
    {
      "cell_type": "code",
      "source": [
        "print(a)\n",
        "a[3:6] = 100 # 指定した範囲に特定の値を代入\n",
        "print(a)\n",
        "a[3:6] = [100,200,300] # 指定した範囲にリストの値を代入\n",
        "print(a)\n",
        "# a[3:6] = [100,200,300,400] # 3つの範囲を4つの要素で上書き\n",
        "a = np.arange(10)\n",
        "print(a)\n",
        "a[2:8:2] = 100 # start2step8にstep2で上書き\n",
        "print(a)"
      ],
      "metadata": {
        "colab": {
          "base_uri": "https://localhost:8080/"
        },
        "id": "naJ7CPBNx9Co",
        "outputId": "85e544cc-a08b-4670-ab40-fb9d3980f1d2"
      },
      "execution_count": 11,
      "outputs": [
        {
          "output_type": "stream",
          "name": "stdout",
          "text": [
            "[0 1 2 3 4 5 6 7 8 9]\n",
            "[  0   1   2 100 100 100   6   7   8   9]\n",
            "[  0   1   2 100 200 300   6   7   8   9]\n",
            "[0 1 2 3 4 5 6 7 8 9]\n",
            "[  0   1 100   3 100   5 100   7   8   9]\n"
          ]
        }
      ]
    },
    {
      "cell_type": "markdown",
      "source": [
        "### 多次元配列のndarrayのスライス"
      ],
      "metadata": {
        "id": "kDbSFOQf2nQe"
      }
    },
    {
      "cell_type": "code",
      "source": [
        "# 3行4行の2次元配列を作る\n",
        "a = np.arange(12).reshape( (3, 4) )\n",
        "print( a )\n",
        "# 2行目から終わりまでの行 = [ 1: ]\n",
        "# 2列目から4列目手前までの列 = [ 1:3 ]\n",
        "print( a[ 1: , 1:3 ] )\n",
        "b = np.arange( 20 ).reshape(5, 4)\n",
        "print(b)\n",
        "# 9, 10 13,14,17 18 の3行2列だけ抜き出す\n",
        "print( b[ 2: , 1:3 ] )\n",
        "c = b[ 2: , 1:3 ]\n",
        "print( c.shape ) # スライスした部分が何行何列なのか"
      ],
      "metadata": {
        "colab": {
          "base_uri": "https://localhost:8080/"
        },
        "id": "uD5d9EiYz6WI",
        "outputId": "17582789-6197-45a5-ee2b-2c9155992a5a"
      },
      "execution_count": 13,
      "outputs": [
        {
          "output_type": "stream",
          "name": "stdout",
          "text": [
            "[[ 0  1  2  3]\n",
            " [ 4  5  6  7]\n",
            " [ 8  9 10 11]]\n",
            "[[ 5  6]\n",
            " [ 9 10]]\n",
            "[[ 0  1  2  3]\n",
            " [ 4  5  6  7]\n",
            " [ 8  9 10 11]\n",
            " [12 13 14 15]\n",
            " [16 17 18 19]]\n",
            "[[ 9 10]\n",
            " [13 14]\n",
            " [17 18]]\n",
            "(3, 2)\n"
          ]
        }
      ]
    },
    {
      "cell_type": "markdown",
      "source": [
        "### 多次元のndarrayへのスライスでの代入"
      ],
      "metadata": {
        "id": "OCL17958oFos"
      }
    },
    {
      "cell_type": "code",
      "source": [
        "# 要素数12の3行4列の2次元配列を作る\n",
        "np.arange( 12 ).reshape( 3,4 )\n",
        "print(a)\n",
        "# 5, 6, 9, 10 の部分をスライス\n",
        "print( a[ 1: , 1:3 ] )\n",
        "a[1: , 1:3] = 100\n",
        "print(a)\n",
        "a = np.arange( 12 ).reshape( 3,4 )\n",
        "# 多次元での上書きにリストを使う\n",
        "a[ 1:, 1:3 ] = [100, 200]\n",
        "print( a )\n",
        "# 多次元の上書きに2次元のリストを使う\n",
        "a[ 1:, 1:3 ] = [ [100,200],[300,400] ]\n",
        "print( a )"
      ],
      "metadata": {
        "id": "V9sCT2uh3RZJ",
        "colab": {
          "base_uri": "https://localhost:8080/"
        },
        "outputId": "4dcae9a7-5a95-4b1b-ac7c-c39458cf743c"
      },
      "execution_count": 16,
      "outputs": [
        {
          "output_type": "stream",
          "name": "stdout",
          "text": [
            "[[  0   1   2   3]\n",
            " [  4 100 200   7]\n",
            " [  8 300 400  11]]\n",
            "[[100 200]\n",
            " [300 400]]\n",
            "[[  0   1   2   3]\n",
            " [  4 100 100   7]\n",
            " [  8 100 100  11]]\n",
            "[[  0   1   2   3]\n",
            " [  4 100 200   7]\n",
            " [  8 100 200  11]]\n",
            "[[  0   1   2   3]\n",
            " [  4 100 200   7]\n",
            " [  8 300 400  11]]\n"
          ]
        }
      ]
    },
    {
      "cell_type": "markdown",
      "source": [
        "### 多次元のndarrayへのstepを使ったスライスでの代入"
      ],
      "metadata": {
        "id": "zyN4EWwtsJLL"
      }
    },
    {
      "cell_type": "code",
      "source": [
        "# 要素数12 3行4列のndarrayを作って変数aに代入\n",
        "a = np.arange(12).reshape( (3, 4) )\n",
        "print(a)\n",
        "# スライスにstep使ってみる 4，6，8，10抜き出す\n",
        "print( a[ 1: , ::2 ] )\n",
        "# 0, 3, 4, 7 抜き出す\n",
        "print( a[ :2, : :3  ] )\n",
        "a[ 1: , ::2 ] =100; #4, 6, 8, 10だったところを100で上書き\n",
        "print(a)\n",
        "# 4, 6, 8, 10だったところをリストで上書き\n",
        "a[ 1: , ::2 ] = [100, 200]\n",
        "print( a )\n",
        "# 4, 6, 8, 10だったところを多次元のリストで上書き\n",
        "a[ 1: , ::2 ] = [ [ 100,200 ], [300,400] ]\n",
        "print( a )"
      ],
      "metadata": {
        "id": "UU0_u4i7qy7T"
      },
      "execution_count": null,
      "outputs": []
    }
  ]
}