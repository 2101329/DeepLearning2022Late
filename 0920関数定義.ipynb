{
  "nbformat": 4,
  "nbformat_minor": 0,
  "metadata": {
    "colab": {
      "provenance": [],
      "collapsed_sections": [],
      "authorship_tag": "ABX9TyMeCe0KqbsZlPkUOPYTc3KJ",
      "include_colab_link": true
    },
    "kernelspec": {
      "name": "python3",
      "display_name": "Python 3"
    },
    "language_info": {
      "name": "python"
    }
  },
  "cells": [
    {
      "cell_type": "markdown",
      "metadata": {
        "id": "view-in-github",
        "colab_type": "text"
      },
      "source": [
        "<a href=\"https://colab.research.google.com/github/2101329/DeepLearning2022Late/blob/main/0920%E9%96%A2%E6%95%B0%E5%AE%9A%E7%BE%A9.ipynb\" target=\"_parent\"><img src=\"https://colab.research.google.com/assets/colab-badge.svg\" alt=\"Open In Colab\"/></a>"
      ]
    },
    {
      "cell_type": "markdown",
      "source": [
        "# python3で関数を定義する\n",
        "\n",
        "## 関数定義"
      ],
      "metadata": {
        "id": "91QhGSf4bQsx"
      }
    },
    {
      "cell_type": "code",
      "source": [
        "# helloという関数を定義する\n",
        "# \"hello, kansuu!\" と画面表示する関数\n",
        "def hello( ):\n",
        "  print( 'hello, kansuu!' ) # インデントされている\n",
        "  # インデントされている命令文などは関数の範囲の中\n",
        "print( 'test message!' ) # インデントされていない\n",
        "# インデントされていない命令文などは関数の範囲の外"
      ],
      "metadata": {
        "colab": {
          "base_uri": "https://localhost:8080/"
        },
        "id": "22zVYoU4baGn",
        "outputId": "b5389f07-f6e4-4d2d-e115-836695222380"
      },
      "execution_count": 1,
      "outputs": [
        {
          "output_type": "stream",
          "name": "stdout",
          "text": [
            "test message!\n"
          ]
        }
      ]
    },
    {
      "cell_type": "markdown",
      "source": [
        "## 関数を実行する"
      ],
      "metadata": {
        "id": "gj1PBZjMd5bC"
      }
    },
    {
      "cell_type": "code",
      "source": [
        "# 作成した関数hello() をコールする\n",
        "hello( )\n",
        "hello( )"
      ],
      "metadata": {
        "colab": {
          "base_uri": "https://localhost:8080/"
        },
        "id": "zhnxScLseAdw",
        "outputId": "2f8151de-42a0-4413-f53c-cae92da8b083"
      },
      "execution_count": 2,
      "outputs": [
        {
          "output_type": "stream",
          "name": "stdout",
          "text": [
            "hello, kansuu!\n",
            "hello, kansuu!\n"
          ]
        }
      ]
    },
    {
      "cell_type": "markdown",
      "source": [
        "## 引数付きの関数を定義する"
      ],
      "metadata": {
        "id": "P6c4iF6Je0Y9"
      }
    },
    {
      "cell_type": "code",
      "source": [
        "# 引数付きの関数 hello( ) を定義\n",
        "def hello( who ):\n",
        "  print( 'hello,' + who + '!' )\n",
        "# ここが関数の終わり\n",
        "\n",
        "hello('python!')"
      ],
      "metadata": {
        "colab": {
          "base_uri": "https://localhost:8080/"
        },
        "id": "j-oZe-Ceexh7",
        "outputId": "68385c8f-e327-45aa-eee2-8ba3371b01fe"
      },
      "execution_count": 4,
      "outputs": [
        {
          "output_type": "stream",
          "name": "stdout",
          "text": [
            "hello,python!!\n"
          ]
        }
      ]
    },
    {
      "cell_type": "markdown",
      "source": [
        "### 複数の引数つきの関数を定義"
      ],
      "metadata": {
        "id": "kkl9ikB_gLDf"
      }
    },
    {
      "cell_type": "code",
      "source": [
        "def hello(who,aisatsu ):\n",
        "  print( 'hello,' + who + 'さん' + aisatsu)\n",
        "# 関数終わり\n",
        "\n",
        "hello ('田中', 'おはよう' )\n",
        "hello ('鈴木','こんにちは' )"
      ],
      "metadata": {
        "colab": {
          "base_uri": "https://localhost:8080/"
        },
        "id": "pkJ0zyiTfsbo",
        "outputId": "c8e63399-1e45-427d-e999-91d787d99705"
      },
      "execution_count": 5,
      "outputs": [
        {
          "output_type": "stream",
          "name": "stdout",
          "text": [
            "hello,田中さんおはよう\n",
            "hello,鈴木さんこんにちは\n"
          ]
        }
      ]
    },
    {
      "cell_type": "markdown",
      "source": [
        "## 関数の戻り値を定義する\n",
        "### 戻り値1つの関数を定義"
      ],
      "metadata": {
        "id": "kYHoChCBhp1G"
      }
    },
    {
      "cell_type": "code",
      "source": [
        "def helloBack( who,aisatsu ):\n",
        "  return who + 'さん、' + aisatsu\n",
        "# 関数終わり\n",
        "\n",
        "#戻り値を変数xに代入して表示\n",
        "x = helloBack('佐藤', 'こんばんは' )\n",
        "print( x )"
      ],
      "metadata": {
        "colab": {
          "base_uri": "https://localhost:8080/"
        },
        "id": "nyNPMySzhN_7",
        "outputId": "062b411f-1c52-4d7b-a4f7-6cb017928d0a"
      },
      "execution_count": 8,
      "outputs": [
        {
          "output_type": "stream",
          "name": "stdout",
          "text": [
            "佐藤さん、こんばんは\n"
          ]
        }
      ]
    },
    {
      "cell_type": "markdown",
      "source": [
        "# 複数の戻り値を返す関数を定義"
      ],
      "metadata": {
        "id": "ipDcpGbJjWoG"
      }
    },
    {
      "cell_type": "code",
      "source": [
        "def keisan( x, y ):\n",
        "  # x, y, x + y この3つの値を返す\n",
        "  return x, y, x+y\n",
        "  # 関数終わり\n",
        "\n",
        "  # 関数keisanを実行して戻り値を受け取る\n",
        "  e, f, g = keisan( 3, 6 ) # 戻り値が3, 6, 9 になる\n",
        "  print( e, f, g )"
      ],
      "metadata": {
        "id": "tOZQS1cSiftk"
      },
      "execution_count": 12,
      "outputs": []
    },
    {
      "cell_type": "markdown",
      "source": [
        "## 分岐(if文)"
      ],
      "metadata": {
        "id": "4_est144lh4U"
      }
    },
    {
      "cell_type": "code",
      "source": [
        "# if文の範囲もインデントで表す\n",
        "# numの値を閾値で分岐する\n",
        "def over( num, thres ):\n",
        "  if num > thres: # numが閾値より大きいとき\n",
        "    print( str(num) + 'は' + str(thres) + 'より大きい' )\n",
        "  else:\n",
        "    print( str(num) + 'は' + str(thres) + '以下です')\n",
        "# 分岐の終わり\n",
        "# 関数の終わり\n",
        "\n",
        "over( 333, 100 )\n",
        "over( -1, 10 )"
      ],
      "metadata": {
        "colab": {
          "base_uri": "https://localhost:8080/"
        },
        "id": "O4SHeGfjkCip",
        "outputId": "081da031-92ed-47b3-cf53-c2cbe14a0306"
      },
      "execution_count": 14,
      "outputs": [
        {
          "output_type": "stream",
          "name": "stdout",
          "text": [
            "333は100より大きい\n",
            "-1は10以下です\n"
          ]
        }
      ]
    },
    {
      "cell_type": "code",
      "source": [
        "# リストに第2引数の値が含まれるか判定\n",
        "def include( list, keyword ):\n",
        "  uniq = set( list ) # リストを集合に変換\n",
        "  if keyword in uniq :\n",
        "    print(keyword + 'が含まれる' )\n",
        "  else:\n",
        "    print(keyword + 'が含まれない' )\n",
        "  # 分岐の終わり\n",
        "# 関数の終わり\n",
        "\n",
        "# リストを引き渡して作成した関数を実行する\n",
        "list_1 = ['アップル','ペン','ペン','パイナップル'] # 第一引数に使うリスト\n",
        "include( list_1, 'パイナップル' )\n",
        "include( list_1, 'バナナ' )"
      ],
      "metadata": {
        "colab": {
          "base_uri": "https://localhost:8080/"
        },
        "id": "1497Vs5Inn3C",
        "outputId": "76f25177-7c49-445e-8e5a-b2eb7d267e8a"
      },
      "execution_count": 16,
      "outputs": [
        {
          "output_type": "stream",
          "name": "stdout",
          "text": [
            "パイナップルが含まれる\n",
            "バナナが含まれない\n"
          ]
        }
      ]
    },
    {
      "cell_type": "markdown",
      "source": [
        "## 繰り返し文(while文)"
      ],
      "metadata": {
        "id": "oF6_iFg0wRkp"
      }
    },
    {
      "cell_type": "code",
      "source": [
        "# while文は条件がtrueの間くりかえす\n",
        "\n",
        "def count( max ):\n",
        "  num = 0\n",
        "  while num < max: # numがmax未満の間、くりかえす\n",
        "    print( num )\n",
        "    num += 1\n",
        "  # while繰り返し終わり\n",
        "# 関数終わり\n",
        "\n",
        "count( 5 ) # 作成した関数に引数を引き渡して実行"
      ],
      "metadata": {
        "colab": {
          "base_uri": "https://localhost:8080/"
        },
        "id": "qMOIMgHqup5I",
        "outputId": "220ba7ff-0591-4953-f11f-7173e409e387"
      },
      "execution_count": 19,
      "outputs": [
        {
          "output_type": "stream",
          "name": "stdout",
          "text": [
            "0\n",
            "1\n",
            "2\n",
            "3\n",
            "4\n"
          ]
        }
      ]
    },
    {
      "cell_type": "markdown",
      "source": [
        "## 繰り返し文(for文)\n",
        "\n",
        "変数βnの集合から1つずつ取り出して変数αとして使う<br>\n",
        "for 変数α in range( 変数β ):"
      ],
      "metadata": {
        "id": "EnT_GW92yejP"
      }
    },
    {
      "cell_type": "code",
      "source": [
        "# 集合 (コレクション)　の中から取りだして繰り返し\n",
        "def every( array ):\n",
        "  for x in array: # arrayの中から1つずつデータを取り出しxに代入\n",
        "    print( x )\n",
        "  # for文終わり\n",
        "# 関数終わり\n",
        "\n",
        "list = [1,2,3]\n",
        "every(list)\n",
        "tuple = (4,5,6)\n",
        "every( tuple )\n",
        "# 辞書型もコレクション\n",
        "dict = { 'a' :7, 'b':8, 'c':9 }\n",
        "every( dict ) # キーワードの一覧表示\n",
        "values = dict.values() # 値のリストを取得\n",
        "every(values) # 値の一覧を表示\n",
        "# 文字列も文字配列としてコレクション扱いができる\n",
        "every( 'dog' ) # d o g として表示"
      ],
      "metadata": {
        "colab": {
          "base_uri": "https://localhost:8080/"
        },
        "id": "OxezxDuLxKOq",
        "outputId": "879796ba-6dc6-400d-fee8-00d8dc8a7307"
      },
      "execution_count": 20,
      "outputs": [
        {
          "output_type": "stream",
          "name": "stdout",
          "text": [
            "1\n",
            "2\n",
            "3\n",
            "4\n",
            "5\n",
            "6\n",
            "a\n",
            "b\n",
            "c\n",
            "7\n",
            "8\n",
            "9\n",
            "d\n",
            "o\n",
            "g\n"
          ]
        }
      ]
    },
    {
      "cell_type": "code",
      "source": [
        "# カウンター変数で繰り返す\n",
        "# for in range( 数値 ) 0～数値未満繰り返す\n",
        "\n",
        "def count( num ):\n",
        "  for i in range( num ) : # 0～num 繰り返す\n",
        "    print( i )\n",
        "  # 繰り返しの終わり\n",
        "# 関数の終わり\n",
        "\n",
        "count( 3 ) # 3 = 0, 1, 2 で繰り返す\n"
      ],
      "metadata": {
        "colab": {
          "base_uri": "https://localhost:8080/"
        },
        "id": "vBLxDhlY2nmz",
        "outputId": "0ef7404c-c710-4400-c050-5a014c599eb1"
      },
      "execution_count": 21,
      "outputs": [
        {
          "output_type": "stream",
          "name": "stdout",
          "text": [
            "0\n",
            "1\n",
            "2\n"
          ]
        }
      ]
    },
    {
      "cell_type": "markdown",
      "source": [
        "## 繰り返しを中断したいときは、break命令"
      ],
      "metadata": {
        "id": "1p0xgeoM4j2y"
      }
    },
    {
      "cell_type": "code",
      "source": [
        "def stop ( array ):\n",
        "  for i in array:\n",
        "    if i >= 4:\n",
        "      break # ループを中断\n",
        "    print(i)\n",
        "    # 分岐終わり\n",
        "  # ループ終わり\n",
        "# 関数終わり\n",
        "\n",
        "list = [ 1, 2, 3, 4, 5, 1, 2, 3, 4, 5 ]\n",
        "stop( list )\n"
      ],
      "metadata": {
        "colab": {
          "base_uri": "https://localhost:8080/"
        },
        "id": "MtbYJ4Fo4uPq",
        "outputId": "3f99ef40-e67d-4d8d-815b-27dd03241c93"
      },
      "execution_count": 22,
      "outputs": [
        {
          "output_type": "stream",
          "name": "stdout",
          "text": [
            "1\n",
            "2\n",
            "3\n"
          ]
        }
      ]
    },
    {
      "cell_type": "markdown",
      "source": [
        "## 繰り返しをスキップしたいときは、continue命令"
      ],
      "metadata": {
        "id": "wAvF3hWK6WeN"
      }
    },
    {
      "cell_type": "code",
      "source": [
        "def skip( array ):\n",
        "  for i in array:\n",
        "    if i >= 4 :\n",
        "      continue\n",
        "    # 分岐終わり\n",
        "    print(i)\n",
        "  # 繰り返し終わり\n",
        "# 関数終わり\n",
        "list = [ 1, 2, 3, 4, 5, 1, 2, 3, 4, 5 ]\n",
        "skip( list )"
      ],
      "metadata": {
        "colab": {
          "base_uri": "https://localhost:8080/"
        },
        "id": "KQtLrRYB6VsQ",
        "outputId": "54970b71-98a1-49e8-b7df-1d8ca3e0ec2d"
      },
      "execution_count": 24,
      "outputs": [
        {
          "output_type": "stream",
          "name": "stdout",
          "text": [
            "1\n",
            "2\n",
            "3\n",
            "1\n",
            "2\n",
            "3\n"
          ]
        }
      ]
    },
    {
      "cell_type": "code",
      "source": [],
      "metadata": {
        "id": "_BnsgJmc7S0-"
      },
      "execution_count": null,
      "outputs": []
    }
  ]
}